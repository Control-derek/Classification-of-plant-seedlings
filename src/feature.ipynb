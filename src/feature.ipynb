{
 "cells": [
  {
   "cell_type": "code",
   "execution_count": 1,
   "metadata": {},
   "outputs": [],
   "source": [
    "import cv2\n",
    "from PIL import Image\n",
    "import numpy as np\n",
    "data_path = \"..\\\\dataset\\\\classifer\\\\train\\\\Black-grass\\\\adwstlhujk.png\"\n",
    "# data_path = \"..\\\\dataset\\classifer\\\\train\\Charlock\\\\anctmubvdy.png\""
   ]
  },
  {
   "cell_type": "code",
   "execution_count": null,
   "metadata": {},
   "outputs": [],
   "source": [
    "img = Image.open(data_path)\n",
    "img"
   ]
  },
  {
   "cell_type": "code",
   "execution_count": 2,
   "metadata": {},
   "outputs": [],
   "source": [
    "# 图像均衡化\n",
    "def equalize(image):\n",
    "    # 分割B,G,R （cv2读取图像的格式即为[B,G,R]，与matplotlib的[R,G,B]不同）\n",
    "    b,g,r = cv2.split(image)\n",
    "    b = cv2.equalizeHist(b)\n",
    "    g = cv2.equalizeHist(g)\n",
    "    r = cv2.equalizeHist(r)\n",
    "    equ_img = cv2.merge((b,g,r))\n",
    "    return equ_img"
   ]
  },
  {
   "cell_type": "code",
   "execution_count": 5,
   "metadata": {},
   "outputs": [],
   "source": [
    "import numpy as np\n",
    "import math\n",
    " \n",
    "def stretchImage(data, s=0.005, bins = 2000):    #线性拉伸，去掉最大最小0.5%的像素值，然后线性拉伸至[0,1]\n",
    "    ht = np.histogram(data, bins)\n",
    "    d = np.cumsum(ht[0])/float(data.size)\n",
    "    lmin = 0; lmax=bins-1\n",
    "    while lmin<bins:\n",
    "        if d[lmin]>=s:\n",
    "            break\n",
    "        lmin+=1\n",
    "    while lmax>=0:\n",
    "        if d[lmax]<=1-s:\n",
    "            break\n",
    "        lmax-=1\n",
    "    return np.clip((data-ht[1][lmin])/(ht[1][lmax]-ht[1][lmin]), 0,1)\n",
    " \n",
    "def getPara(radius = 5):                        #根据半径计算权重参数矩阵\n",
    "    g_para = {}\n",
    "    m = g_para.get(radius, None)\n",
    "    if m is not None:\n",
    "        return m\n",
    "    size = radius*2+1\n",
    "    m = np.zeros((size, size))\n",
    "    for h in range(-radius, radius+1):\n",
    "        for w in range(-radius, radius+1):\n",
    "            if h==0 and w==0:\n",
    "                continue\n",
    "            m[radius+h, radius+w] = 1.0/math.sqrt(h**2+w**2)\n",
    "    m /= m.sum()\n",
    "    g_para[radius] = m\n",
    "    return m\n",
    " \n",
    "def zmIce(I, ratio=4, radius=300):                     #常规的ACE实现\n",
    "    para = getPara(radius)\n",
    "    height,width = I.shape\n",
    "    zh,zw = [0]*radius + [x for x in range(height)] + [height-1]*radius, [0]*radius + [x for x in range(width)]  + [width -1]*radius\n",
    "    Z = I[np.ix_(zh, zw)]\n",
    "    res = np.zeros(I.shape)\n",
    "    for h in range(radius*2+1):\n",
    "        for w in range(radius*2+1):\n",
    "            if para[h][w] == 0:\n",
    "                continue\n",
    "            res += (para[h][w] * np.clip((I-Z[h:h+height, w:w+width])*ratio, -1, 1))\n",
    "    return res\n",
    " \n",
    "def zmIceFast(I, ratio, radius):                #单通道ACE快速增强实现\n",
    "    height, width = I.shape[:2]\n",
    "    if min(height, width) <=2:\n",
    "        return np.zeros(I.shape)+0.5\n",
    "    Rs = cv2.resize(I, ((width+1)//2, (height+1)//2))\n",
    "    Rf = zmIceFast(Rs, ratio, radius)             #递归调用\n",
    "    Rf = cv2.resize(Rf, (width, height))\n",
    "    Rs = cv2.resize(Rs, (width, height))\n",
    " \n",
    "    return Rf+zmIce(I,ratio, radius)-zmIce(Rs,ratio,radius)    \n",
    "            \n",
    "def zmIceColor(I, ratio=4, radius=3):               #rgb三通道分别增强，ratio是对比度增强因子，radius是卷积模板半径\n",
    "    res = np.zeros(I.shape)\n",
    "    for k in range(3):\n",
    "        res[:,:,k] = stretchImage(zmIceFast(I[:,:,k], ratio, radius))\n",
    "    return res"
   ]
  },
  {
   "cell_type": "code",
   "execution_count": 7,
   "metadata": {},
   "outputs": [],
   "source": [
    "img = cv2.imread(data_path)\n",
    "cv2.imshow(\"black-grass\", img)\n",
    "# cv2.waitKey()\n",
    "# cv2.destroyAllWindows()\n",
    "gray_img = cv2.cvtColor(img, cv2.COLOR_BGR2GRAY)\n",
    "# 线性变换\n",
    "alpha = 2.0 \n",
    "lin_img = cv2.convertScaleAbs(img, alpha=alpha, beta=0)\n",
    "cv2.imshow('Adjusted Contrast', lin_img)\n",
    "# 直方图均衡化\n",
    "equ_img = equalize(img)\n",
    "cv2.imshow('equ', equ_img)\n",
    "# CLAHE\n",
    "\n",
    "imgYUV = cv2.cvtColor(img, cv2.COLOR_BGR2YCrCb)\n",
    "channelsYUV = cv2.split(imgYUV)\n",
    "t = channelsYUV[0]\n",
    " \n",
    "# 限制对比度的自适应阈值均衡化\n",
    "clahe = cv2.createCLAHE(clipLimit=6.0, tileGridSize=(8, 8))\n",
    "p= clahe.apply(t)\n",
    " \n",
    "channels = cv2.merge([p,channelsYUV[1],channelsYUV[2]])\n",
    "result = cv2.cvtColor(channels, cv2.COLOR_YCrCb2BGR)\n",
    "\n",
    "# clahe = cv2.createCLAHE(clipLimit=4.0, tileGridSize=(8, 8))\n",
    "# clag_img = clahe.apply(gray_img)\n",
    "# cla_img = cv2.cvtColor(clag_img, cv2.COLOR_GRAY2RGB)\n",
    "cv2.imshow('cla', result)\n",
    "\n",
    "ace_img1 = zmIceColor(img/255.0, ratio=4, radius=3)\n",
    "cv2.imshow('ace43', ace_img1)\n",
    "ace_img2 = zmIceColor(img/255.0, ratio=4, radius=5)\n",
    "cv2.imshow('ace45', ace_img2)\n",
    "ace_img3 = zmIceColor(img/255.0, ratio=4, radius=7)\n",
    "cv2.imshow('ace47', ace_img3)\n",
    "ace_img3 = zmIceColor(img/255.0, ratio=4, radius=9)\n",
    "cv2.imshow('ace49', ace_img3)\n",
    "ace_img = zmIceColor(img/255.0, ratio=6, radius=3)\n",
    "cv2.imshow('ace63', ace_img)\n",
    "ace_img = zmIceColor(img/255.0, ratio=6, radius=5)\n",
    "cv2.imshow('ace65', ace_img)\n",
    "ace_img = zmIceColor(img/255.0, ratio=6, radius=7)\n",
    "cv2.imshow('ace67', ace_img)\n",
    "ace_img = zmIceColor(img/255.0, ratio=6, radius=9)\n",
    "cv2.imshow('ace69', ace_img)\n",
    "cv2.waitKey(0)\n",
    "cv2.destroyAllWindows()"
   ]
  },
  {
   "cell_type": "code",
   "execution_count": null,
   "metadata": {},
   "outputs": [],
   "source": []
  },
  {
   "cell_type": "code",
   "execution_count": 11,
   "metadata": {},
   "outputs": [
    {
     "name": "stdout",
     "output_type": "stream",
     "text": [
      "(< cv2.KeyPoint 000001B20D077BA0>, < cv2.KeyPoint 000001B20B817E70>, < cv2.KeyPoint 000001B20B816820>, < cv2.KeyPoint 000001B20B817390>, < cv2.KeyPoint 000001B20B8179C0>, < cv2.KeyPoint 000001B20B8168E0>, < cv2.KeyPoint 000001B20B8169D0>, < cv2.KeyPoint 000001B20B8174B0>, < cv2.KeyPoint 000001B20B816FD0>, < cv2.KeyPoint 000001B20B8175D0>, < cv2.KeyPoint 000001B20B817CF0>, < cv2.KeyPoint 000001B20B8173F0>, < cv2.KeyPoint 000001B20B817C30>, < cv2.KeyPoint 000001B20B8174E0>, < cv2.KeyPoint 000001B20B817750>, < cv2.KeyPoint 000001B20B817A50>, < cv2.KeyPoint 000001B20B8179F0>, < cv2.KeyPoint 000001B20B817BD0>, < cv2.KeyPoint 000001B20B817810>, < cv2.KeyPoint 000001B20B817B10>, < cv2.KeyPoint 000001B20B817A80>, < cv2.KeyPoint 000001B20B816F10>, < cv2.KeyPoint 000001B20B817F00>, < cv2.KeyPoint 000001B20B816460>, < cv2.KeyPoint 000001B20B817F30>, < cv2.KeyPoint 000001B20B816FA0>, < cv2.KeyPoint 000001B20B816EB0>, < cv2.KeyPoint 000001B20B817510>, < cv2.KeyPoint 000001B20B816AF0>, < cv2.KeyPoint 000001B20B816B20>, < cv2.KeyPoint 000001B20B817ED0>, < cv2.KeyPoint 000001B20B817EA0>, < cv2.KeyPoint 000001B20B816910>, < cv2.KeyPoint 000001B20B817C00>, < cv2.KeyPoint 000001B20B817990>, < cv2.KeyPoint 000001B20B817780>, < cv2.KeyPoint 000001B20B816EE0>, < cv2.KeyPoint 000001B20B817930>, < cv2.KeyPoint 000001B20B817450>, < cv2.KeyPoint 000001B20B817B40>, < cv2.KeyPoint 000001B20B817E40>, < cv2.KeyPoint 000001B20B8176F0>, < cv2.KeyPoint 000001B20B817480>, < cv2.KeyPoint 000001B20B8176C0>, < cv2.KeyPoint 000001B20B817E10>, < cv2.KeyPoint 000001B20B816B50>, < cv2.KeyPoint 000001B20B816880>, < cv2.KeyPoint 000001B20B815FB0>, < cv2.KeyPoint 000001B20B816130>, < cv2.KeyPoint 000001B20B816940>, < cv2.KeyPoint 000001B20B816AC0>, < cv2.KeyPoint 000001B20B8178A0>, < cv2.KeyPoint 000001B20B815A70>, < cv2.KeyPoint 000001B20B8155F0>, < cv2.KeyPoint 000001B20B817CC0>, < cv2.KeyPoint 000001B20B816A90>, < cv2.KeyPoint 000001B20B817B70>, < cv2.KeyPoint 000001B20B817630>, < cv2.KeyPoint 000001B20B817BA0>, < cv2.KeyPoint 000001B20B817D20>, < cv2.KeyPoint 000001B20B817720>, < cv2.KeyPoint 000001B20B816D90>, < cv2.KeyPoint 000001B20B816DC0>, < cv2.KeyPoint 000001B20B8178D0>, < cv2.KeyPoint 000001B20B816E50>, < cv2.KeyPoint 000001B20B817FC0>, < cv2.KeyPoint 000001B20B816BE0>, < cv2.KeyPoint 000001B20B817660>, < cv2.KeyPoint 000001B20B816BB0>, < cv2.KeyPoint 000001B20B75DFE0>, < cv2.KeyPoint 000001B20B75C9C0>, < cv2.KeyPoint 000001B21D4308D0>, < cv2.KeyPoint 000001B21D4308A0>, < cv2.KeyPoint 000001B21D430870>, < cv2.KeyPoint 000001B21D430840>, < cv2.KeyPoint 000001B21D430810>, < cv2.KeyPoint 000001B21D4307E0>, < cv2.KeyPoint 000001B21D4307B0>, < cv2.KeyPoint 000001B21D430780>, < cv2.KeyPoint 000001B21D430750>, < cv2.KeyPoint 000001B21D430720>, < cv2.KeyPoint 000001B21D4306F0>, < cv2.KeyPoint 000001B21D4306C0>, < cv2.KeyPoint 000001B21D430690>, < cv2.KeyPoint 000001B21D430660>, < cv2.KeyPoint 000001B21D430630>, < cv2.KeyPoint 000001B21D430600>, < cv2.KeyPoint 000001B21D4305D0>, < cv2.KeyPoint 000001B21D4305A0>, < cv2.KeyPoint 000001B21D430570>, < cv2.KeyPoint 000001B21D430540>, < cv2.KeyPoint 000001B21D430510>, < cv2.KeyPoint 000001B21D4304E0>, < cv2.KeyPoint 000001B21D4304B0>, < cv2.KeyPoint 000001B21D430480>, < cv2.KeyPoint 000001B21D430450>, < cv2.KeyPoint 000001B21D430420>, < cv2.KeyPoint 000001B21D4303F0>, < cv2.KeyPoint 000001B21D4303C0>, < cv2.KeyPoint 000001B21D430390>, < cv2.KeyPoint 000001B21D430360>, < cv2.KeyPoint 000001B21D430330>, < cv2.KeyPoint 000001B21D430300>, < cv2.KeyPoint 000001B21D4302D0>, < cv2.KeyPoint 000001B21D4302A0>, < cv2.KeyPoint 000001B21D430270>, < cv2.KeyPoint 000001B21D430240>, < cv2.KeyPoint 000001B21D430210>, < cv2.KeyPoint 000001B21D4301E0>, < cv2.KeyPoint 000001B21D4301B0>, < cv2.KeyPoint 000001B21D430180>, < cv2.KeyPoint 000001B21D430150>, < cv2.KeyPoint 000001B21D430120>, < cv2.KeyPoint 000001B21D4300F0>, < cv2.KeyPoint 000001B21D4300C0>, < cv2.KeyPoint 000001B21D430090>, < cv2.KeyPoint 000001B21D430060>, < cv2.KeyPoint 000001B21D430030>, < cv2.KeyPoint 000001B21D430930>, < cv2.KeyPoint 000001B21D430AE0>, < cv2.KeyPoint 000001B21D430B10>, < cv2.KeyPoint 000001B21D430960>, < cv2.KeyPoint 000001B21D430B40>, < cv2.KeyPoint 000001B21D430B70>, < cv2.KeyPoint 000001B21D430900>, < cv2.KeyPoint 000001B21D430990>, < cv2.KeyPoint 000001B21D4309C0>, < cv2.KeyPoint 000001B21D4309F0>, < cv2.KeyPoint 000001B21D430A20>, < cv2.KeyPoint 000001B21D430A50>, < cv2.KeyPoint 000001B21D430A80>, < cv2.KeyPoint 000001B21D430AB0>, < cv2.KeyPoint 000001B21D430BA0>, < cv2.KeyPoint 000001B21D430BD0>, < cv2.KeyPoint 000001B21D430C00>, < cv2.KeyPoint 000001B21D430C30>, < cv2.KeyPoint 000001B21D430C60>, < cv2.KeyPoint 000001B21D430C90>, < cv2.KeyPoint 000001B21D430CC0>, < cv2.KeyPoint 000001B21D430CF0>, < cv2.KeyPoint 000001B21D430D20>, < cv2.KeyPoint 000001B21D430D50>, < cv2.KeyPoint 000001B21D430D80>, < cv2.KeyPoint 000001B21D430DB0>, < cv2.KeyPoint 000001B21D430DE0>, < cv2.KeyPoint 000001B21D430E10>, < cv2.KeyPoint 000001B21D430E40>, < cv2.KeyPoint 000001B21D430E70>, < cv2.KeyPoint 000001B21D430EA0>, < cv2.KeyPoint 000001B21D430ED0>, < cv2.KeyPoint 000001B21D430F00>, < cv2.KeyPoint 000001B21D430F30>, < cv2.KeyPoint 000001B21D430F60>, < cv2.KeyPoint 000001B21D430F90>, < cv2.KeyPoint 000001B21D430FC0>, < cv2.KeyPoint 000001B21D430FF0>, < cv2.KeyPoint 000001B21D431020>, < cv2.KeyPoint 000001B21D431050>, < cv2.KeyPoint 000001B21D431080>, < cv2.KeyPoint 000001B21D4310B0>, < cv2.KeyPoint 000001B21D4310E0>, < cv2.KeyPoint 000001B21D431110>, < cv2.KeyPoint 000001B21D431140>, < cv2.KeyPoint 000001B21D431170>, < cv2.KeyPoint 000001B21D4311A0>, < cv2.KeyPoint 000001B21D4311D0>, < cv2.KeyPoint 000001B21D431200>, < cv2.KeyPoint 000001B21D431230>, < cv2.KeyPoint 000001B21D431260>, < cv2.KeyPoint 000001B21D431290>, < cv2.KeyPoint 000001B21D4312C0>, < cv2.KeyPoint 000001B21D4312F0>, < cv2.KeyPoint 000001B21D431320>, < cv2.KeyPoint 000001B21D431350>, < cv2.KeyPoint 000001B21D431380>, < cv2.KeyPoint 000001B21D4313B0>, < cv2.KeyPoint 000001B21D4313E0>, < cv2.KeyPoint 000001B21D431410>, < cv2.KeyPoint 000001B21D431440>, < cv2.KeyPoint 000001B21D431470>, < cv2.KeyPoint 000001B21D4314A0>, < cv2.KeyPoint 000001B21D4314D0>, < cv2.KeyPoint 000001B21D431500>, < cv2.KeyPoint 000001B21D431530>, < cv2.KeyPoint 000001B21D431560>, < cv2.KeyPoint 000001B21D431590>, < cv2.KeyPoint 000001B21D4315C0>, < cv2.KeyPoint 000001B21D4315F0>, < cv2.KeyPoint 000001B21D431620>, < cv2.KeyPoint 000001B21D431650>, < cv2.KeyPoint 000001B21D431680>, < cv2.KeyPoint 000001B21D4316B0>, < cv2.KeyPoint 000001B21D4316E0>, < cv2.KeyPoint 000001B21D431710>, < cv2.KeyPoint 000001B21D431740>, < cv2.KeyPoint 000001B21D431770>, < cv2.KeyPoint 000001B21D4317A0>, < cv2.KeyPoint 000001B21D4317D0>, < cv2.KeyPoint 000001B21D431800>, < cv2.KeyPoint 000001B21D431830>, < cv2.KeyPoint 000001B21D431860>, < cv2.KeyPoint 000001B21D431890>, < cv2.KeyPoint 000001B21D4318C0>, < cv2.KeyPoint 000001B21D4318F0>, < cv2.KeyPoint 000001B21D431920>, < cv2.KeyPoint 000001B21D431950>, < cv2.KeyPoint 000001B21D431980>, < cv2.KeyPoint 000001B21D4319B0>, < cv2.KeyPoint 000001B21D4319E0>, < cv2.KeyPoint 000001B21D431A10>, < cv2.KeyPoint 000001B21D431A40>, < cv2.KeyPoint 000001B21D431A70>, < cv2.KeyPoint 000001B21D431AA0>, < cv2.KeyPoint 000001B21D431AD0>, < cv2.KeyPoint 000001B21D431B00>, < cv2.KeyPoint 000001B21D431B30>, < cv2.KeyPoint 000001B21D431B60>, < cv2.KeyPoint 000001B21D431B90>, < cv2.KeyPoint 000001B21D431BC0>, < cv2.KeyPoint 000001B21D431BF0>, < cv2.KeyPoint 000001B21D431C20>, < cv2.KeyPoint 000001B21D431C50>, < cv2.KeyPoint 000001B21D431C80>, < cv2.KeyPoint 000001B21D431CB0>, < cv2.KeyPoint 000001B21D431CE0>, < cv2.KeyPoint 000001B21D431D10>, < cv2.KeyPoint 000001B21D431D40>, < cv2.KeyPoint 000001B21D431D70>, < cv2.KeyPoint 000001B21D431DA0>, < cv2.KeyPoint 000001B21D431DD0>, < cv2.KeyPoint 000001B21D431E00>, < cv2.KeyPoint 000001B21D431E30>, < cv2.KeyPoint 000001B21D431E60>, < cv2.KeyPoint 000001B21D431E90>, < cv2.KeyPoint 000001B21D431EC0>, < cv2.KeyPoint 000001B21D431EF0>, < cv2.KeyPoint 000001B21D431F20>, < cv2.KeyPoint 000001B21D431F50>, < cv2.KeyPoint 000001B21D431F80>, < cv2.KeyPoint 000001B21D431FB0>, < cv2.KeyPoint 000001B21D431FE0>, < cv2.KeyPoint 000001B21D432010>, < cv2.KeyPoint 000001B21D432040>, < cv2.KeyPoint 000001B21D432070>, < cv2.KeyPoint 000001B21D4320A0>, < cv2.KeyPoint 000001B21D4320D0>, < cv2.KeyPoint 000001B21D432100>, < cv2.KeyPoint 000001B21D432130>, < cv2.KeyPoint 000001B21D432160>, < cv2.KeyPoint 000001B21D432190>, < cv2.KeyPoint 000001B21D4321C0>, < cv2.KeyPoint 000001B21D4321F0>, < cv2.KeyPoint 000001B21D432220>, < cv2.KeyPoint 000001B21D432250>, < cv2.KeyPoint 000001B21D432280>, < cv2.KeyPoint 000001B21D4322B0>, < cv2.KeyPoint 000001B21D4322E0>, < cv2.KeyPoint 000001B21D432310>, < cv2.KeyPoint 000001B21D432340>, < cv2.KeyPoint 000001B21D432370>, < cv2.KeyPoint 000001B21D4323A0>, < cv2.KeyPoint 000001B21D4323D0>, < cv2.KeyPoint 000001B21D432400>, < cv2.KeyPoint 000001B21D432430>, < cv2.KeyPoint 000001B21D432460>, < cv2.KeyPoint 000001B21D432490>, < cv2.KeyPoint 000001B21D4324C0>, < cv2.KeyPoint 000001B21D4324F0>, < cv2.KeyPoint 000001B21D432520>, < cv2.KeyPoint 000001B21D432550>, < cv2.KeyPoint 000001B21D432580>, < cv2.KeyPoint 000001B21D4325B0>, < cv2.KeyPoint 000001B21D4325E0>, < cv2.KeyPoint 000001B21D432610>, < cv2.KeyPoint 000001B21D432640>, < cv2.KeyPoint 000001B21D432670>, < cv2.KeyPoint 000001B21D4326A0>, < cv2.KeyPoint 000001B21D4326D0>, < cv2.KeyPoint 000001B21D432700>, < cv2.KeyPoint 000001B21D432730>, < cv2.KeyPoint 000001B21D432760>, < cv2.KeyPoint 000001B21D432790>, < cv2.KeyPoint 000001B21D4327C0>, < cv2.KeyPoint 000001B21D4327F0>, < cv2.KeyPoint 000001B21D432820>, < cv2.KeyPoint 000001B21D432850>, < cv2.KeyPoint 000001B21D432880>, < cv2.KeyPoint 000001B21D4328B0>, < cv2.KeyPoint 000001B21D4328E0>, < cv2.KeyPoint 000001B21D432910>, < cv2.KeyPoint 000001B21D432940>, < cv2.KeyPoint 000001B21D432970>, < cv2.KeyPoint 000001B21D4329A0>, < cv2.KeyPoint 000001B21D4329D0>, < cv2.KeyPoint 000001B21D432A00>, < cv2.KeyPoint 000001B21D432A30>, < cv2.KeyPoint 000001B21D432A60>, < cv2.KeyPoint 000001B21D432A90>, < cv2.KeyPoint 000001B21D432AC0>, < cv2.KeyPoint 000001B21D432AF0>, < cv2.KeyPoint 000001B21D432B20>, < cv2.KeyPoint 000001B21D432B50>, < cv2.KeyPoint 000001B21D432B80>, < cv2.KeyPoint 000001B21D432BB0>, < cv2.KeyPoint 000001B21D432BE0>, < cv2.KeyPoint 000001B21D432C10>, < cv2.KeyPoint 000001B21D432C40>, < cv2.KeyPoint 000001B21D432C70>, < cv2.KeyPoint 000001B21D432CA0>, < cv2.KeyPoint 000001B21D432CD0>, < cv2.KeyPoint 000001B21D432D00>, < cv2.KeyPoint 000001B21D432D30>, < cv2.KeyPoint 000001B21D432D60>, < cv2.KeyPoint 000001B21D432D90>, < cv2.KeyPoint 000001B21D432DC0>, < cv2.KeyPoint 000001B21D432DF0>, < cv2.KeyPoint 000001B21D432E20>, < cv2.KeyPoint 000001B21D432E50>, < cv2.KeyPoint 000001B21D432E80>, < cv2.KeyPoint 000001B21D432EB0>, < cv2.KeyPoint 000001B21D432EE0>, < cv2.KeyPoint 000001B21D432F10>, < cv2.KeyPoint 000001B21D432F40>, < cv2.KeyPoint 000001B21D432F70>, < cv2.KeyPoint 000001B21D432FA0>, < cv2.KeyPoint 000001B21D432FD0>, < cv2.KeyPoint 000001B21D433000>, < cv2.KeyPoint 000001B21D433030>, < cv2.KeyPoint 000001B21D433060>, < cv2.KeyPoint 000001B21D433090>, < cv2.KeyPoint 000001B21D4330C0>, < cv2.KeyPoint 000001B21D4330F0>, < cv2.KeyPoint 000001B21D433120>, < cv2.KeyPoint 000001B21D433150>, < cv2.KeyPoint 000001B21D433180>, < cv2.KeyPoint 000001B21D4331B0>, < cv2.KeyPoint 000001B21D4331E0>, < cv2.KeyPoint 000001B21D433210>, < cv2.KeyPoint 000001B21D433240>, < cv2.KeyPoint 000001B21D433270>, < cv2.KeyPoint 000001B21D4332A0>, < cv2.KeyPoint 000001B21D4332D0>) [[19.  0.  0. ...  1.  0.  1.]\n",
      " [ 2.  9.  0. ... 24. 26.  6.]\n",
      " [ 2.  3. 36. ...  2.  1.  0.]\n",
      " ...\n",
      " [ 1.  2.  0. ...  0.  1. 81.]\n",
      " [ 0.  0.  0. ...  8. 37.  8.]\n",
      " [42. 83. 43. ...  5. 19. 15.]]\n"
     ]
    }
   ],
   "source": [
    "# 创建SIFT特征检测器\n",
    "sift = cv2.SIFT_create()\n",
    "img_gray = cv2.cvtColor(img, cv2.COLOR_BGR2GRAY)\n",
    "# 特征点提取与描述子生成\n",
    "kp, des = sift.detectAndCompute(img,None)\n",
    "print(kp, des)"
   ]
  },
  {
   "cell_type": "code",
   "execution_count": 12,
   "metadata": {},
   "outputs": [
    {
     "data": {
      "text/plain": [
       "(numpy.ndarray, (334, 334, 3))"
      ]
     },
     "execution_count": 12,
     "metadata": {},
     "output_type": "execute_result"
    }
   ],
   "source": [
    "type(img), img.shape"
   ]
  },
  {
   "cell_type": "code",
   "execution_count": 13,
   "metadata": {},
   "outputs": [
    {
     "data": {
      "text/plain": [
       "(numpy.ndarray, (342, 128))"
      ]
     },
     "execution_count": 13,
     "metadata": {},
     "output_type": "execute_result"
    }
   ],
   "source": [
    "type(des), des.shape"
   ]
  },
  {
   "cell_type": "code",
   "execution_count": 14,
   "metadata": {},
   "outputs": [],
   "source": [
    "cv2.imshow(\"des\", des)\n",
    "cv2.waitKey()\n",
    "cv2.destroyAllWindows()"
   ]
  },
  {
   "cell_type": "code",
   "execution_count": 15,
   "metadata": {},
   "outputs": [],
   "source": [
    "img4show = img.copy()\n",
    "cv2.drawKeypoints(img, kp, img4show)\n",
    "cv2.imshow(\"des\", img4show)\n",
    "cv2.waitKey()\n",
    "cv2.destroyAllWindows()"
   ]
  },
  {
   "cell_type": "code",
   "execution_count": 16,
   "metadata": {},
   "outputs": [],
   "source": [
    "# 自适应 阈值锐化\n",
    "gray = cv2.cvtColor(img,cv2.COLOR_BGR2GRAY)\n",
    "\n",
    "med = np.median(gray)\n",
    "lower = int(max(0, (1.0 - 0.33) * med))\n",
    "upper = int(min(255, (1.0 + 0.33) * med))\n",
    "edges = cv2.Canny(gray, lower, upper)\n",
    "\n",
    "kernel = np.array([[-1,-1,-1], [-1,9,-1], [-1,-1,-1]])\n",
    "sharp1 = cv2.filter2D(gray, -1, kernel)\n",
    "sharp2 = cv2.filter2D(edges, -1, kernel)\n",
    "\n",
    "alpha = 0.5\n",
    "beta = 1 - alpha\n",
    "sharped = alpha * sharp1 + beta * sharp2\n",
    "\n",
    "sharped[sharped>255] = 255\n",
    "sharped[sharped<0] = 0\n",
    "sharped = np.uint8(sharped)\n",
    "\n",
    "cv2.imshow('Sharp Image', sharped)\n",
    "cv2.waitKey(0)\n",
    "cv2.destroyAllWindows()"
   ]
  },
  {
   "cell_type": "code",
   "execution_count": 17,
   "metadata": {},
   "outputs": [
    {
     "name": "stdout",
     "output_type": "stream",
     "text": [
      "70.0\n"
     ]
    },
    {
     "data": {
      "image/png": "[encoded data removed]",
      "text/plain": [
       "<Figure size 640x480 with 1 Axes>"
      ]
     },
     "metadata": {},
     "output_type": "display_data"
    },
    {
     "data": {
      "text/plain": [
       "-1"
      ]
     },
     "execution_count": 17,
     "metadata": {},
     "output_type": "execute_result"
    }
   ],
   "source": [
    "import cv2\n",
    "import numpy as np\n",
    "import matplotlib.pyplot as plt\n",
    "img = cv2.imread(data_path, 0)\n",
    "ret1, th1 = cv2.threshold(img, 127, 255, cv2.THRESH_BINARY)  # 简单滤波\n",
    "ret2, th2 = cv2.threshold(img, 0, 255, cv2.THRESH_BINARY+cv2.THRESH_OTSU) # Otsu滤波\n",
    "print(ret2)\n",
    "cv2.imshow('img', img)\n",
    "cv2.imshow('th1', th1)\n",
    "cv2.imshow('th2', th2)\n",
    "# 解决matplotlib中显示图像的中文乱码问题\n",
    "plt.rcParams['font.sans-serif'] = ['SimHei']\n",
    "plt.rcParams['axes.unicode_minus'] = False\n",
    "plt.hist(img.ravel(), 256)\n",
    "plt.title('灰度直方图')\n",
    "plt.show()\n",
    "cv2.waitKey(0)"
   ]
  },
  {
   "cell_type": "code",
   "execution_count": 18,
   "metadata": {},
   "outputs": [
    {
     "ename": "ValueError",
     "evalue": "not enough values to unpack (expected 3, got 1)",
     "output_type": "error",
     "traceback": [
      "\u001b[1;31m---------------------------------------------------------------------------\u001b[0m",
      "\u001b[1;31mValueError\u001b[0m                                Traceback (most recent call last)",
      "\u001b[1;32mf:\\python\\machine_learning_design\\src\\feature.ipynb Cell 11\u001b[0m line \u001b[0;36m1\n\u001b[0;32m      <a href='vscode-notebook-cell:/f%3A/python/machine_learning_design/src/feature.ipynb#X13sZmlsZQ%3D%3D?line=7'>8</a>\u001b[0m     equ_img \u001b[39m=\u001b[39m cv2\u001b[39m.\u001b[39mmerge((b,g,r))\n\u001b[0;32m      <a href='vscode-notebook-cell:/f%3A/python/machine_learning_design/src/feature.ipynb#X13sZmlsZQ%3D%3D?line=8'>9</a>\u001b[0m     \u001b[39mreturn\u001b[39;00m equ_img\n\u001b[1;32m---> <a href='vscode-notebook-cell:/f%3A/python/machine_learning_design/src/feature.ipynb#X13sZmlsZQ%3D%3D?line=10'>11</a>\u001b[0m equ_img \u001b[39m=\u001b[39m equalize(img)\n\u001b[0;32m     <a href='vscode-notebook-cell:/f%3A/python/machine_learning_design/src/feature.ipynb#X13sZmlsZQ%3D%3D?line=11'>12</a>\u001b[0m cv2\u001b[39m.\u001b[39mimshow(\u001b[39m\"\u001b[39m\u001b[39mequ\u001b[39m\u001b[39m\"\u001b[39m, equ_img)\n\u001b[0;32m     <a href='vscode-notebook-cell:/f%3A/python/machine_learning_design/src/feature.ipynb#X13sZmlsZQ%3D%3D?line=12'>13</a>\u001b[0m cv2\u001b[39m.\u001b[39mwaitKey()\n",
      "\u001b[1;32mf:\\python\\machine_learning_design\\src\\feature.ipynb Cell 11\u001b[0m line \u001b[0;36m4\n\u001b[0;32m      <a href='vscode-notebook-cell:/f%3A/python/machine_learning_design/src/feature.ipynb#X13sZmlsZQ%3D%3D?line=1'>2</a>\u001b[0m \u001b[39mdef\u001b[39;00m \u001b[39mequalize\u001b[39m(image):\n\u001b[0;32m      <a href='vscode-notebook-cell:/f%3A/python/machine_learning_design/src/feature.ipynb#X13sZmlsZQ%3D%3D?line=2'>3</a>\u001b[0m     \u001b[39m# 分割B,G,R （cv2读取图像的格式即为[B,G,R]，与matplotlib的[R,G,B]不同）\u001b[39;00m\n\u001b[1;32m----> <a href='vscode-notebook-cell:/f%3A/python/machine_learning_design/src/feature.ipynb#X13sZmlsZQ%3D%3D?line=3'>4</a>\u001b[0m     b,g,r \u001b[39m=\u001b[39m cv2\u001b[39m.\u001b[39msplit(image)\n\u001b[0;32m      <a href='vscode-notebook-cell:/f%3A/python/machine_learning_design/src/feature.ipynb#X13sZmlsZQ%3D%3D?line=4'>5</a>\u001b[0m     b \u001b[39m=\u001b[39m cv2\u001b[39m.\u001b[39mequalizeHist(b)\n\u001b[0;32m      <a href='vscode-notebook-cell:/f%3A/python/machine_learning_design/src/feature.ipynb#X13sZmlsZQ%3D%3D?line=5'>6</a>\u001b[0m     g \u001b[39m=\u001b[39m cv2\u001b[39m.\u001b[39mequalizeHist(g)\n",
      "\u001b[1;31mValueError\u001b[0m: not enough values to unpack (expected 3, got 1)"
     ]
    }
   ],
   "source": [
    "# 图像均衡化\n",
    "def equalize(image):\n",
    "    # 分割B,G,R （cv2读取图像的格式即为[B,G,R]，与matplotlib的[R,G,B]不同）\n",
    "    b,g,r = cv2.split(image)\n",
    "    b = cv2.equalizeHist(b)\n",
    "    g = cv2.equalizeHist(g)\n",
    "    r = cv2.equalizeHist(r)\n",
    "    equ_img = cv2.merge((b,g,r))\n",
    "    return equ_img\n",
    "\n",
    "equ_img = equalize(img)\n",
    "cv2.imshow(\"equ\", equ_img)\n",
    "cv2.waitKey()\n",
    "cv2.destroyAllWindows()"
   ]
  },
  {
   "cell_type": "code",
   "execution_count": null,
   "metadata": {},
   "outputs": [],
   "source": [
    "def extractGreen(image):\n",
    "    # 绿色范围\n",
    "    lower_green = np.array([35, 43, 46], dtype=\"uint8\")  # 颜色下限\n",
    "    upper_green = np.array([90, 255, 255], dtype=\"uint8\")  # 颜色上限\n",
    "    \n",
    "    # 高斯滤波\n",
    "    # img_blur = cv2.GaussianBlur(image, (11, 11), 0)\n",
    "    # 中值滤波\n",
    "    # img_blur = cv2.medianBlur(image, 11)\n",
    "    img_hsv = cv2.cvtColor(image, cv2.COLOR_BGR2HSV)\n",
    "    # 根据阈值找到对应颜色，二值化\n",
    "    mask = cv2.inRange(img_hsv, lower_green, upper_green)\n",
    "    cv2.imshow(\"mask\", mask)\n",
    "    cv2.waitKey()\n",
    "    cv2.destroyAllWindows()\n",
    "    \n",
    "    # 按位与\n",
    "    output = cv2.bitwise_and(image, image, mask=mask)\n",
    "\n",
    "    return output\n",
    "\n",
    "ext_img = extractGreen(img)\n",
    "cv2.imshow(\"ext\", ext_img)\n",
    "cv2.waitKey()\n",
    "cv2.destroyAllWindows()"
   ]
  },
  {
   "cell_type": "code",
   "execution_count": null,
   "metadata": {},
   "outputs": [],
   "source": [
    "ext_img_blur = cv2.medianBlur(ext_img, 11)\n",
    "cv2.imshow(\"ext\", ext_img_blur)\n",
    "cv2.waitKey()\n",
    "cv2.destroyAllWindows()"
   ]
  },
  {
   "cell_type": "code",
   "execution_count": null,
   "metadata": {},
   "outputs": [],
   "source": [
    "# 创建SIFT特征检测器\n",
    "sift_after = cv2.SIFT_create()\n",
    "# 特征点提取与描述子生成\n",
    "kp_after, des_after = sift_after.detectAndCompute(ext_img,None)\n",
    "# print(kp, des)\n",
    "img4show_after = ext_img.copy()\n",
    "cv2.drawKeypoints(ext_img, kp_after, img4show_after)\n",
    "cv2.imshow(\"des\", img4show_after)\n",
    "cv2.waitKey()\n",
    "cv2.destroyAllWindows()"
   ]
  },
  {
   "cell_type": "code",
   "execution_count": null,
   "metadata": {},
   "outputs": [],
   "source": []
  }
 ],
 "metadata": {
  "kernelspec": {
   "display_name": "pytorch",
   "language": "python",
   "name": "python3"
  },
  "language_info": {
   "codemirror_mode": {
    "name": "ipython",
    "version": 3
   },
   "file_extension": ".py",
   "mimetype": "text/x-python",
   "name": "python",
   "nbconvert_exporter": "python",
   "pygments_lexer": "ipython3",
   "version": "3.9.15"
  },
  "orig_nbformat": 4
 },
 "nbformat": 4,
 "nbformat_minor": 2
}
